{
  "metadata": {
    "kernelspec": {
      "name": "python",
      "display_name": "Python (Pyodide)",
      "language": "python"
    },
    "language_info": {
      "codemirror_mode": {
        "name": "python",
        "version": 3
      },
      "file_extension": ".py",
      "mimetype": "text/x-python",
      "name": "python",
      "nbconvert_exporter": "python",
      "pygments_lexer": "ipython3",
      "version": "3.8"
    }
  },
  "nbformat_minor": 4,
  "nbformat": 4,
  "cells": [
    {
      "cell_type": "code",
      "source": "##############################      Assignment 3 - Question 2      ############################################\n\n###########   Write a Python program to create a class representing a linked list data structure. #######################\n##########       Include methods for displaying linked list data, inserting and deleting nodes.  ############################\n\nclass Node:\n   \n    def __init__(self, data):\n        self.data = data     # Initialize the node with data and set the next pointer to None\n        self.next = None\n\nclass LinkedList:\n    def __init__(self):   # Initialize the linked list with an empty head node\n        self.head = None\n\n    \n    def display(self):\n        current = self.head     # Fundtion to display the elements.\n        while current:\n            print(current.data, end=\" \")\n            current = current.next\n        print()\n    \n    def insert(self, data):\n        new_node = Node(data)\n        if not self.head:               #Function to insert a new node with the given data at the end of the linked list\n            self.head = new_node\n        else:\n            current = self.head\n            while current.next:\n                current = current.next\n            current.next = new_node\n\n    \n    def delete(self, data):\n        if not self.head:     # Function to delete a node with the given data from the linked list\n            return\n\n        if self.head.data == data:\n            self.head = self.head.next\n            return\n\n        current = self.head\n        prev = None\n        while current and current.data != data:\n            prev = current\n            current = current.next\n\n        if current:\n            prev.next = current.next\n\nlinked_list = LinkedList()\n\nlinked_list.insert(10)\nlinked_list.insert(20)\nlinked_list.insert(30)\nlinked_list.insert(40)\n\n\nprint(\"The Linked List is:\")\nlinked_list.display()   # Called the display function\n\n\nlinked_list.insert(100)\nprint(\"Linked list after inserting a new node:\")   #Call the insert the function add new new node \nlinked_list.display()\n\nlinked_list.delete(40)\nprint(\"Linked list after deleting an existing node:\")  #Call the function to delete the node \nlinked_list.display() \n",
      "metadata": {
        "trusted": true
      },
      "outputs": [
        {
          "name": "stdout",
          "text": "The Linked List is:\n10 20 30 40 \nLinked list after inserting a new node:\n10 20 30 40 100 \nLinked list after deleting an existing node:\n10 20 30 100 \n",
          "output_type": "stream"
        }
      ],
      "execution_count": 14
    },
    {
      "cell_type": "code",
      "source": "",
      "metadata": {
        "trusted": true
      },
      "outputs": [],
      "execution_count": null
    },
    {
      "cell_type": "code",
      "source": "",
      "metadata": {
        "trusted": true
      },
      "outputs": [],
      "execution_count": null
    },
    {
      "cell_type": "code",
      "source": "",
      "metadata": {
        "trusted": true
      },
      "outputs": [],
      "execution_count": null
    },
    {
      "cell_type": "code",
      "source": "",
      "metadata": {
        "trusted": true
      },
      "outputs": [],
      "execution_count": null
    },
    {
      "cell_type": "code",
      "source": "",
      "metadata": {
        "trusted": true
      },
      "outputs": [],
      "execution_count": null
    },
    {
      "cell_type": "code",
      "source": "",
      "metadata": {
        "trusted": true
      },
      "outputs": [],
      "execution_count": null
    }
  ]
}