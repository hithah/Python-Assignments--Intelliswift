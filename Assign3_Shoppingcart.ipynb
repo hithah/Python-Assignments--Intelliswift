{
  "metadata": {
    "kernelspec": {
      "name": "python",
      "display_name": "Python (Pyodide)",
      "language": "python"
    },
    "language_info": {
      "codemirror_mode": {
        "name": "python",
        "version": 3
      },
      "file_extension": ".py",
      "mimetype": "text/x-python",
      "name": "python",
      "nbconvert_exporter": "python",
      "pygments_lexer": "ipython3",
      "version": "3.8"
    }
  },
  "nbformat_minor": 4,
  "nbformat": 4,
  "cells": [
    {
      "cell_type": "code",
      "source": "##############################      Assignment 3 - Question 3      ############################################\n\n###################   Write a Python program to create a class representing a shopping cart. ############################\n##############   Include methods for adding and removing items, and calculating the total price.  ############################\n\nclass Cart:\n    def __init__(self):\n        self.items = []\n    def add_item(self, item_name, Amount):\n        item = (item_name, Amount)\n        self.items.append(item)\n\n\n    def remove_item(self, item_name):\n        for item in self.items:\n            if item[0] == item_name:   #Function to remove item from cart\n                self.items.remove(item)\n                break\n   \n    def calculate_total(self):\n        total = 0\n        for item in self.items:    #Function calculate the total amount in cart\n            total += item[1]\n        return total\n\nPurchase = Cart()\n\nPurchase.add_item(\"Apple\", 120)  # Add items to the shopping cart\nPurchase.add_item(\"Orange\", 130)\nPurchase.add_item(\"Banana\", 150)\nPurchase.add_item(\"Cucumber\", 160)\nPurchase.add_item(\"Carrot\", 180)\n\n \nprint(\"Current Items in Cart:\")  # Display the current items in the cart\nfor item in Purchase.items:\n    print(item[0], \"-\", item[1])\n\nTotal = Purchase.calculate_total()\nprint(\"Total Quantity:\", Total)\n\nPurchase.remove_item(\"Orange\")\nprint(\"\\nUpdated Items in Cart after removing Orange:\")  # Remove an item from the cart.\nfor item in Purchase.items:\n    print(item[0], \"-\", item[1])\n\nTotal = Purchase.calculate_total()\nprint(\"Total Quantity:\", Total)  #recalculate the total quantity\n",
      "metadata": {
        "trusted": true
      },
      "outputs": [
        {
          "name": "stdout",
          "text": "Current Items in Cart:\nApple - 120\nOrange - 130\nBanana - 150\nCucumber - 160\nCarrot - 180\nTotal Quantity: 740\n\nUpdated Items in Cart after removing Orange:\nApple - 120\nBanana - 150\nCucumber - 160\nCarrot - 180\nTotal Quantity: 610\n",
          "output_type": "stream"
        }
      ],
      "execution_count": 11
    },
    {
      "cell_type": "code",
      "source": "",
      "metadata": {
        "trusted": true
      },
      "outputs": [],
      "execution_count": null
    }
  ]
}