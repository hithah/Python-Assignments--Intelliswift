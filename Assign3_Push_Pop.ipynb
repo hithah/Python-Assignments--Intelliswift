{
  "metadata": {
    "kernelspec": {
      "name": "python",
      "display_name": "Python (Pyodide)",
      "language": "python"
    },
    "language_info": {
      "codemirror_mode": {
        "name": "python",
        "version": 3
      },
      "file_extension": ".py",
      "mimetype": "text/x-python",
      "name": "python",
      "nbconvert_exporter": "python",
      "pygments_lexer": "ipython3",
      "version": "3.8"
    }
  },
  "nbformat_minor": 4,
  "nbformat": 4,
  "cells": [
    {
      "cell_type": "code",
      "source": "##############################      Assignment 3 - Question 1 & 4      ############################################\n\n##########     Write a Python program to create a class representing a stack data structure.      #######################\n##########        Include methods for pushing,popping and displaying elements     ############################\n\nclass StackStruc:\n    def __init__(self):    #Function to initialize the stack for with empty list.\n        self.items = []\n\n    def pushval(self, item):     #Function to push an item\n        self.items.append(item)\n\n    def popval(self,val):\n        if not self.is_empty():      #Function to pop an item from list based on if else condition\n            return self.items.pop()\n        else:\n            raise IndexError(\"Cannot pop an item from the empty stack.\")\n            \n    def is_empty(self):\n        return len(self.items) == 0    #Function to check the stack is empty\n        \n    def display(self):\n        print(\"Stack items:\", self.items)\n\nStackStruc = StackStruc()  # Create an instance of the Stack class\n\nStackStruc.pushval(300)\nStackStruc.pushval(400)\nStackStruc.pushval(500)      # Push items into the stack\nStackStruc.pushval(600)\nStackStruc.pushval(700)\n\nStackStruc.display()\n\npopped_item = StackStruc.popval(-1)\nprint(\"Popped item is:\", popped_item)   #Pop item from the stack(default value is -1, which returns the last item)\npopped_item = StackStruc.popval(-2)    #A number specifying the position of the element you want to remove.\nprint(\"Popped item is:\", popped_item)\n\nStackStruc.display()",
      "metadata": {
        "trusted": true
      },
      "outputs": [
        {
          "name": "stdout",
          "text": "Stack items: [300, 400, 500, 600, 700]\nPopped item is: 700\nPopped item is: 600\nStack items: [300, 400, 500]\n",
          "output_type": "stream"
        }
      ],
      "execution_count": 19
    },
    {
      "cell_type": "code",
      "source": "",
      "metadata": {
        "trusted": true
      },
      "outputs": [],
      "execution_count": null
    }
  ]
}